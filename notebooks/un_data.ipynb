{
 "cells": [
  {
   "cell_type": "markdown",
   "id": "804acce0",
   "metadata": {},
   "source": [
    "3.\tImport the required packages with their customary aliases as follows:\n",
    "\n",
    "    `import pandas as pd`   \n",
    "    `import numpy as np`  \n",
    "    `import matplotlib.pyplot as plt`  \n",
    "    `import seaborn as sns`\n",
    "    \n",
    "4.\tUsing the pandas `read_csv()` method, read the GDP dataset into your notebook as a DataFrame called `gdp_df`. Take a look at the first few and last few rows to familiarize yourself with what is contained in this dataset.\n",
    "\n",
    "5. How many rows and columns are in `gdp_df`? What are the data types of each column?\n",
    "\n",
    "6. Drop the `Value Footnotes` column and rename the remaining three to 'Country', 'Year', and 'GDP_Per_Capita'.\n",
    "\n",
    "7. How many countries have data for all years? Which countries are missing many years of data? Look at the number of observations per year. What do you notice? \n",
    "\n",
    "8. In this question, you're going to create some plots to show the distribution of GDP per capita for the year 2020. Go to the Python Graph Gallery (https://www.python-graph-gallery.com/) and look at the different types of plots under the Distribution section. Create a histogram, a density plot, a boxplot, and a violin plot. What do you notice when you look at these plots? How do the plots compare and what information can you get out of one type that you can't necessarily get out of the others?\n",
    "9. What was the median GDP per capita value in 2020?\n",
    "\n",
    "10. For this question, you're going to create some visualizations to compare GDP per capita values for the years 1990, 2000, 2010, and 2020. Start by subsetting your data to just these 4 years into a new DataFrame named gdp_decades. Using this, create the following 4 plots:\n",
    "\t* A boxplot\n",
    "\t* A barplot (check out the Barplot with Seaborn section: https://www.python-graph-gallery.com/barplot/#Seaborn)\n",
    "\t* A scatterplot\n",
    "\t* A scatterplot with a trend line overlaid (see this regplot example: https://www.python-graph-gallery.com/42-custom-linear-regression-fit-seaborn)  \n",
    "Comment on what you observe has happened to GDP values over time and the relative strengths and weaknesses of each type of plot.\n",
    "\n",
    "11. Which country was the first to have a GDP per capita greater than $100,000?\n",
    "\n",
    "12. Which country had the highest GDP per capita in 2020? Create a plot showing how this country's GDP per capita has changed over the timespan of the dataset.\n",
    "\n",
    "13. Which country had the lowest GDP per capita in 2020? Create a plot showing how this country's GDP per capita has changed over the timespan of the dataset. **Bonus question:** Is it true in general that coutries had a higher GDP per capita in 2020 than in 1990? Which countries had lower GDP per capita in 2020 than in 1990?\n",
    "\n",
    "14. Read in the internet use dataset into a DataFrame named `internet_df`. You will likely get errors when doing this. Check the arguments for the read_csv function to find ones that can help correct the errors (https://pandas.pydata.org/docs/reference/api/pandas.read_csv.html) Once you are able to read it in, take per a look at the top and bottom few rows to make sure that it has been read in correctly. Also, check the datatypes of the columns.\n",
    "\n",
    "15. Drop the `Value Footnotes` column and rename the remaining three to 'Country', 'Year', and 'Internet_Users_Pct'.\n",
    "\n",
    "16. Look at the number of observations in this dataset per year. What do you notice?\n",
    "\n",
    "17. What is the first year to have a non-zero internet users percentage value?\n",
    "\n",
    "18. How does the distribution of internet users percent differ for 2000 and 2014?\n",
    "\n",
    "19. For how many countries was the percentage of internet users below 5% in 2014?\n",
    "\n",
    "20. Merge the two DataFrames to one. Do this in a way that keeps **all rows** from each of the two DataFrames. Call the new DataFrame `gdp_and_internet_use`. Look at the first and last few rows to confirm that it merged correctly.\n",
    "\n",
    "21. Find the three countries with the highest internet users percentage in 2014. Use a seaborn FacetGrid (https://seaborn.pydata.org/generated/seaborn.FacetGrid.html) to compare how the GDP per capita has changed over time for these three countries. What do you notice?\n",
    "\n",
    "22. Subset `gdp_and_internet_use` to just the year 2014. Save this as a new dataframe named `gdp_and_internet_use_2014`.\n",
    "\n",
    "23. Create a plot which compares Internet Users Percentage and GDP per Capita for the year 2014. What do you notice from this plot? If you see any unusual points, investigate them.\n",
    "\n",
    "24. **Stretch Question:** Use the `qcut` function from pandas (https://pandas.pydata.org/docs/reference/api/pandas.qcut.html) to divide countries in `gdp_per_capita_2014` into three groups based on their GDP per capita values. Label these groups as \"Low\", \"Medium\", and \"High\". Put these labels in a new column, named \"GDP_group\".\n",
    "\n",
    "25. **Stretch Question:** How does the median internet users percentage compare for the three gdp groups?\n",
    "\n",
    "### Bonus exercise:\n",
    "1.    Download another data set from the UN data (http://data.un.org/Explorer.aspx) to merge with your data and explore.\n"
   ]
  },
  {
   "cell_type": "code",
   "execution_count": 7,
   "id": "77c92ed5",
   "metadata": {},
   "outputs": [],
   "source": [
    "import pandas as pd   \n",
    "import numpy as np \n",
    "import matplotlib.pyplot as plt  \n",
    "import seaborn as sns"
   ]
  },
  {
   "cell_type": "code",
   "execution_count": 8,
   "id": "a7175f9b",
   "metadata": {},
   "outputs": [],
   "source": [
    "gdp_df = pd.read_csv('../data/gdp_percapita.csv')\n",
    "\n"
   ]
  },
  {
   "cell_type": "code",
   "execution_count": 9,
   "id": "f3d7068d",
   "metadata": {},
   "outputs": [
    {
     "name": "stdout",
     "output_type": "stream",
     "text": [
      "<bound method NDFrame.head of      Country or Area  Year        Value  Value Footnotes\n",
      "0        Afghanistan  2021  1517.016266              NaN\n",
      "1        Afghanistan  2020  1968.341002              NaN\n",
      "2        Afghanistan  2019  2079.921861              NaN\n",
      "3        Afghanistan  2018  2060.698973              NaN\n",
      "4        Afghanistan  2017  2096.093111              NaN\n",
      "...              ...   ...          ...              ...\n",
      "7657        Zimbabwe  1994  2670.106615              NaN\n",
      "7658        Zimbabwe  1993  2458.783255              NaN\n",
      "7659        Zimbabwe  1992  2468.278257              NaN\n",
      "7660        Zimbabwe  1991  2781.787843              NaN\n",
      "7661        Zimbabwe  1990  2704.757299              NaN\n",
      "\n",
      "[7662 rows x 4 columns]>\n",
      "<bound method DataFrame.info of      Country or Area  Year        Value  Value Footnotes\n",
      "0        Afghanistan  2021  1517.016266              NaN\n",
      "1        Afghanistan  2020  1968.341002              NaN\n",
      "2        Afghanistan  2019  2079.921861              NaN\n",
      "3        Afghanistan  2018  2060.698973              NaN\n",
      "4        Afghanistan  2017  2096.093111              NaN\n",
      "...              ...   ...          ...              ...\n",
      "7657        Zimbabwe  1994  2670.106615              NaN\n",
      "7658        Zimbabwe  1993  2458.783255              NaN\n",
      "7659        Zimbabwe  1992  2468.278257              NaN\n",
      "7660        Zimbabwe  1991  2781.787843              NaN\n",
      "7661        Zimbabwe  1990  2704.757299              NaN\n",
      "\n",
      "[7662 rows x 4 columns]>\n"
     ]
    }
   ],
   "source": [
    "print(gdp_df.head)\n",
    "print(gdp_df.info)"
   ]
  },
  {
   "cell_type": "markdown",
   "id": "4493695c",
   "metadata": {},
   "source": [
    "5. How many rows and columns are in `gdp_df`? What are the data types of each column?\n",
    "Answer: 7662 rows , 4 columns  -- String, Integer, Float, String"
   ]
  },
  {
   "cell_type": "code",
   "execution_count": null,
   "id": "5b18d8f2",
   "metadata": {},
   "outputs": [],
   "source": []
  },
  {
   "cell_type": "markdown",
   "id": "9cb60a47",
   "metadata": {},
   "source": [
    "6. Drop the `Value Footnotes` column and rename the remaining three to 'Country', 'Year', and 'GDP_Per_Capita'."
   ]
  },
  {
   "cell_type": "code",
   "execution_count": 10,
   "id": "3ef8162f",
   "metadata": {},
   "outputs": [],
   "source": [
    "gdp_df = pd.read_csv(\"../data/gdp_percapita.csv\", usecols=[\"Country or Area\", \"Year\", \"Value\"])"
   ]
  },
  {
   "cell_type": "code",
   "execution_count": 11,
   "id": "8d68a154",
   "metadata": {},
   "outputs": [],
   "source": [
    "rename_dict = {\n",
    "    'Country or Area': 'Country',\n",
    "    'Value': 'GDP_Per_Capita'\n",
    "}\n",
    "\n",
    "\n",
    "gdp_df.rename(columns=rename_dict, inplace=True)"
   ]
  },
  {
   "cell_type": "markdown",
   "id": "ea4c9a88",
   "metadata": {},
   "source": [
    "7. How many countries have data for all years? Which countries are missing many years of data? Look at the number of observations per year. What do you notice? "
   ]
  },
  {
   "cell_type": "code",
   "execution_count": 12,
   "id": "4af1d408",
   "metadata": {},
   "outputs": [
    {
     "name": "stdout",
     "output_type": "stream",
     "text": [
      "Country\n",
      "Afghanistan                    False\n",
      "Africa Eastern and Southern     True\n",
      "Africa Western and Central      True\n",
      "Albania                         True\n",
      "Algeria                         True\n",
      "                               ...  \n",
      "Viet Nam                        True\n",
      "West Bank and Gaza             False\n",
      "World                           True\n",
      "Zambia                          True\n",
      "Zimbabwe                        True\n",
      "Name: Year, Length: 242, dtype: bool\n"
     ]
    }
   ],
   "source": [
    "country_year = gdp_df.groupby(['Country'])['Year'].count() == 33\n",
    "print(country_year)"
   ]
  },
  {
   "cell_type": "code",
   "execution_count": 3,
   "id": "02a0ab40",
   "metadata": {
    "scrolled": true
   },
   "outputs": [
    {
     "ename": "NameError",
     "evalue": "name 'observations_per_country' is not defined",
     "output_type": "error",
     "traceback": [
      "\u001b[1;31m---------------------------------------------------------------------------\u001b[0m",
      "\u001b[1;31mNameError\u001b[0m                                 Traceback (most recent call last)",
      "Cell \u001b[1;32mIn[3], line 1\u001b[0m\n\u001b[1;32m----> 1\u001b[0m countries_missing_many_years \u001b[38;5;241m=\u001b[39m observations_per_country[observations_per_country \u001b[38;5;241m<\u001b[39m total_years]\n\u001b[0;32m      2\u001b[0m \u001b[38;5;28mprint\u001b[39m(countries_missing_many_years)\n",
      "\u001b[1;31mNameError\u001b[0m: name 'observations_per_country' is not defined"
     ]
    }
   ],
   "source": [
    "countries_missing_many_years = observations_per_country[observations_per_country < total_years]\n",
    "print(countries_missing_many_years)\n"
   ]
  },
  {
   "cell_type": "code",
   "execution_count": 13,
   "id": "4e581ac5",
   "metadata": {},
   "outputs": [
    {
     "name": "stdout",
     "output_type": "stream",
     "text": [
      "33\n",
      "Country\n",
      "Afghanistan                    20\n",
      "Africa Eastern and Southern    33\n",
      "Africa Western and Central     33\n",
      "Albania                        33\n",
      "Algeria                        33\n",
      "                               ..\n",
      "Viet Nam                       33\n",
      "West Bank and Gaza             29\n",
      "World                          33\n",
      "Zambia                         33\n",
      "Zimbabwe                       33\n",
      "Name: Year, Length: 242, dtype: int64\n",
      "Country\n",
      "Africa Eastern and Southern    33\n",
      "Africa Western and Central     33\n",
      "Albania                        33\n",
      "Algeria                        33\n",
      "Angola                         33\n",
      "                               ..\n",
      "Vanuatu                        33\n",
      "Viet Nam                       33\n",
      "World                          33\n",
      "Zambia                         33\n",
      "Zimbabwe                       33\n",
      "Name: Year, Length: 202, dtype: int64\n",
      "Country\n",
      "Afghanistan                  20\n",
      "Aruba                        32\n",
      "Bhutan                       32\n",
      "Bosnia and Herzegovina       29\n",
      "Cambodia                     30\n",
      "Cayman Islands               16\n",
      "Croatia                      28\n",
      "CuraÃ§ao                     22\n",
      "Djibouti                     10\n",
      "Estonia                      28\n",
      "Hungary                      32\n",
      "Iceland                      28\n",
      "Israel                       28\n",
      "Kosovo                       15\n",
      "Kuwait                       31\n",
      "Latvia                       28\n",
      "Lebanon                      32\n",
      "Liberia                      23\n",
      "Libya                        24\n",
      "Lithuania                    28\n",
      "Maldives                     28\n",
      "Moldova                      28\n",
      "Montenegro                   26\n",
      "Nauru                        19\n",
      "Other small states           23\n",
      "Palau                        22\n",
      "Qatar                        23\n",
      "San Marino                   25\n",
      "Serbia                       28\n",
      "Sint Maarten (Dutch part)    14\n",
      "Slovak Republic              31\n",
      "Slovenia                     28\n",
      "Small states                 26\n",
      "Somalia                      10\n",
      "SÃ£o TomÃ© and Principe      22\n",
      "Timor-Leste                  23\n",
      "Tonga                        32\n",
      "Turkmenistan                 31\n",
      "Turks and Caicos Islands     12\n",
      "West Bank and Gaza           29\n",
      "Name: Year, dtype: int64\n",
      "Year\n",
      "1990    207\n",
      "1991    208\n",
      "1992    210\n",
      "1993    211\n",
      "1994    213\n",
      "1995    223\n",
      "1996    223\n",
      "1997    226\n",
      "1998    226\n",
      "1999    227\n",
      "2000    233\n",
      "2001    234\n",
      "2002    235\n",
      "2003    235\n",
      "2004    236\n",
      "2005    236\n",
      "2006    237\n",
      "2007    237\n",
      "2008    238\n",
      "2009    239\n",
      "2010    239\n",
      "2011    240\n",
      "2012    240\n",
      "2013    242\n",
      "2014    242\n",
      "2015    242\n",
      "2016    242\n",
      "2017    242\n",
      "2018    242\n",
      "2019    242\n",
      "2020    242\n",
      "2021    241\n",
      "2022    232\n",
      "dtype: int64\n"
     ]
    }
   ],
   "source": [
    "unique_years = gdp_df['Year'].nunique()\n",
    "\n",
    "print(unique_years)\n",
    "\n",
    "observations_per_country = gdp_df.groupby('Country')['Year'].nunique()\n",
    "\n",
    "print(observations_per_country)\n",
    "\n",
    "countries_with_all_years = observations_per_country[observations_per_country == unique_years]\n",
    "\n",
    "print(countries_with_all_years)\n",
    "\n",
    "countries_missing_many_years = observations_per_country[observations_per_country < unique_years]\n",
    "\n",
    "print(countries_missing_many_years)\n",
    "\n",
    "observations_per_year = gdp_df.groupby('Year').size()\n",
    "\n",
    "print(observations_per_year)\n",
    "\n",
    "\n",
    "\n",
    "\n",
    "\n"
   ]
  },
  {
   "cell_type": "markdown",
   "id": "a76e7144",
   "metadata": {},
   "source": [
    "7. How many countries have data for all years? Which countries are missing many years of data? Look at the number of observations per year. What do you notice? "
   ]
  },
  {
   "cell_type": "code",
   "execution_count": 14,
   "id": "2abe0768",
   "metadata": {},
   "outputs": [
    {
     "name": "stdout",
     "output_type": "stream",
     "text": [
      "Number of countries with data for all years: 202\n",
      "Number of countries missing more than one year of data: 40\n"
     ]
    }
   ],
   "source": [
    "observations_per_country = gdp_df.groupby('Country')['Year'].nunique()\n",
    "\n",
    "\n",
    "\n",
    "countries_missing_many_years = observations_per_country[observations_per_country < unique_years]\n",
    "\n",
    "count_countries_with_all_years = countries_with_all_years.count()\n",
    "count_countries_missing_many_years = countries_missing_many_years.count()\n",
    "print(\"Number of countries with data for all years:\", count_countries_with_all_years)\n",
    "print(\"Number of countries missing more than one year of data:\", count_countries_missing_many_years)\n"
   ]
  },
  {
   "cell_type": "markdown",
   "id": "3f35f6bf",
   "metadata": {},
   "source": [
    "In this question, you're going to create some plots to show the distribution of GDP per capita for the year 2020. Go to the Python Graph Gallery (https://www.python-graph-gallery.com/) and look at the different types of plots under the Distribution section. Create a histogram, a density plot, a boxplot, and a violin plot. What do you notice when you look at these plots? How do the plots compare and what information can you get out of one type that you can't necessarily get out of the others?"
   ]
  }
 ],
 "metadata": {
  "kernelspec": {
   "display_name": "Python 3 (ipykernel)",
   "language": "python",
   "name": "python3"
  },
  "language_info": {
   "codemirror_mode": {
    "name": "ipython",
    "version": 3
   },
   "file_extension": ".py",
   "mimetype": "text/x-python",
   "name": "python",
   "nbconvert_exporter": "python",
   "pygments_lexer": "ipython3",
   "version": "3.11.5"
  }
 },
 "nbformat": 4,
 "nbformat_minor": 5
}
